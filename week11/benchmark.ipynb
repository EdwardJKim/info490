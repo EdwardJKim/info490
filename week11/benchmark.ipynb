{
 "metadata": {
  "name": "",
  "signature": "sha256:c19b4e8e63a860dd2522f67fc4131190ea5c56d40373e05cebe23430336390cc"
 },
 "nbformat": 3,
 "nbformat_minor": 0,
 "worksheets": [
  {
   "cells": [
    {
     "cell_type": "code",
     "collapsed": true,
     "input": [
      "import sqlite3 as sl\n",
      "import pandas as pd"
     ],
     "language": "python",
     "metadata": {},
     "outputs": []
    },
    {
     "cell_type": "markdown",
     "metadata": {},
     "source": [
      "## Problem 11.1. SQLite Benchmarks\n",
      "\n",
      "You might have wondered why relational databases and SQLite were introduced in weeks 10 and 11.\n",
      "   One of the strengths of SQLite is that, once a database is stored,\n",
      "   it is much faster when we have to make frequent queries.\n",
      "   In this problem, we will test the question, \"how fast is SQLite really?\",\n",
      "   by measuring the CPU time to\n",
      "   - use pure Python to brute-force search a CSV file,\n",
      "   - create an SQLite database by reading in a CSV file, and\n",
      "   - query an existing SQLite database.\n",
      "\n",
      "For simplicity, we will extract only two columns: `month` (the 2nd colum) and `cancelled` (the 24th column)."
     ]
    },
    {
     "cell_type": "code",
     "collapsed": true,
     "input": [
      "%%bash\n",
      "cat /data/airline/2001.csv | awk -F, '{print $2 \",\" $24}' > /data/airline/week11.csv"
     ],
     "language": "python",
     "metadata": {},
     "outputs": []
    },
    {
     "cell_type": "markdown",
     "metadata": {},
     "source": [
      "The `count_cancelled()` function use a simple `for` loop to read in a CSV file line by line.\n",
      "  On my machine, the results were\n",
      "\n",
      "```python\n",
      "%time n = count_cancelled(9, \"/data/airline/week11.csv\")\n",
      "```\n",
      "\n",
      "```text\n",
      "CPU times: user 26.4 s, sys: 24 ms, total: 26.4 s\n",
      "Wall time: 26.4 s\n",
      "```\n",
      "\n",
      "The `create_db()` function creates an SQLite database.\n",
      "\n",
      "```python\n",
      "%time db_name = create_db(\"/data/airline/week11.csv\")\n",
      "```\n",
      "\n",
      "```text\n",
      "CPU times: user 1min 30s, sys: 3.51 s, total: 1min 33s\n",
      "Wall time: 1min 38s\n",
      "```\n",
      "\n",
      "The `query()` function uses the databse we have created with `create_db()`\n",
      "  and makes a `SELECT` query to count the number of cancellations in September.\n",
      "  \n",
      "```python\n",
      "%time n = query(\"/data/airline/test.db\")\n",
      "```\n",
      "\n",
      "```text\n",
      "CPU times: user 1.95 s, sys: 108 ms, total: 2.06 s\n",
      "Wall time: 2.06 s\n",
      "```\n",
      "\n",
      "We can see that it takes a while to create an SQLite database,\n",
      "  but once it has been created, a query takes just a couple of seconds.\n",
      "  Imagine we have to make 100 queries.\n",
      "  It would take 26.4 sec $\\times$ 100 = 44 minutes for plain Python,\n",
      "  while it would take 1 min 30 sec + 2.0 sec $\\times$ 100 = 4.8 minutes in SQLite."
     ]
    },
    {
     "cell_type": "markdown",
     "metadata": {},
     "source": [
      "### Function: create\\_db()\n",
      "\n",
      "First, write a function named `create_db()` that takes a string (the name of the CSV file)\n",
      "  and returns a string (the name of the SQLite database name you have created).\n",
      "  Here's the schema you should use:"
     ]
    },
    {
     "cell_type": "code",
     "collapsed": true,
     "input": [
      "create_flights = '''\n",
      "CREATE TABLE flights (\n",
      "    month INT,\n",
      "    cancelled INT\n",
      ");\n",
      "'''"
     ],
     "language": "python",
     "metadata": {},
     "outputs": []
    },
    {
     "cell_type": "code",
     "collapsed": true,
     "input": [
      "def create_db(filename):\n",
      "    \n",
      "    ####### Your code goes here ########\n",
      "    \n",
      "    return db_name"
     ],
     "language": "python",
     "metadata": {},
     "outputs": []
    },
    {
     "cell_type": "code",
     "collapsed": true,
     "input": [
      "%time db_name = create_db(\"/data/airline/week11.csv\")"
     ],
     "language": "python",
     "metadata": {},
     "outputs": []
    },
    {
     "cell_type": "markdown",
     "metadata": {},
     "source": [
      "### Function: query ()\n",
      "\n",
      "Next, write a function named `query` that takes a string (the name of the SQL database you created)\n",
      "  and returns an integer (the number of cancellations in September)."
     ]
    },
    {
     "cell_type": "code",
     "collapsed": true,
     "input": [
      "def query(db_name, month):\n",
      "    \n",
      "    ##### Your code goes here #####\n",
      "    \n",
      "    return n"
     ],
     "language": "python",
     "metadata": {},
     "outputs": []
    },
    {
     "cell_type": "code",
     "collapsed": true,
     "input": [
      "%time n = query(\"/data/airline/test.db\", 9)\n",
      "print(\"{0} flights were cancelled in September, 2001\".format(n))"
     ],
     "language": "python",
     "metadata": {},
     "outputs": []
    },
    {
     "cell_type": "code",
     "collapsed": true,
     "input": [
      "print(n)"
     ],
     "language": "python",
     "metadata": {},
     "outputs": []
    },
    {
     "cell_type": "markdown",
     "metadata": {},
     "source": [
      "Finally, I have provided a function that goes through a CSV file line by line\n",
      "  and counts the number of cancellations in September.\n",
      "  Run the following cells to see how long it takes on your machine."
     ]
    },
    {
     "cell_type": "code",
     "collapsed": true,
     "input": [
      "def count_cancelled(month, filename, header=True):\n",
      "    \n",
      "    n = 0\n",
      "    with open(filename) as f:\n",
      "        for i, line in enumerate(f):\n",
      "            if header and i == 0:\n",
      "                continue\n",
      "                \n",
      "            values = line.strip().split(',')\n",
      "            if int(values[0]) == 9 and int(values[1]) == 1:\n",
      "                n += 1\n",
      "    return n"
     ],
     "language": "python",
     "metadata": {},
     "outputs": []
    },
    {
     "cell_type": "code",
     "collapsed": true,
     "input": [
      "%time n = count_cancelled(9, \"/data/airline/week11.csv\")\n",
      "print(\"{0} flights were cancelled in September, 2001\".format(n))"
     ],
     "language": "python",
     "metadata": {},
     "outputs": []
    },
    {
     "cell_type": "code",
     "collapsed": true,
     "input": [],
     "language": "python",
     "metadata": {},
     "outputs": []
    }
   ],
   "metadata": {}
  }
 ]
}