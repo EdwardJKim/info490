{
 "metadata": {
  "name": "",
  "signature": "sha256:fa5414b9f0b513082d827af189fd109e809a5557ad81194eb07c0da5fca97110"
 },
 "nbformat": 3,
 "nbformat_minor": 0,
 "worksheets": [
  {
   "cells": [
    {
     "cell_type": "markdown",
     "metadata": {},
     "source": [
      "<DIV ALIGN=CENTER>\n",
      "\n",
      "# Introduction to Pandas & Databases\n",
      "## Professor Robert J. Brunner\n",
      "  \n",
      "</DIV>  \n",
      "-----\n",
      "-----"
     ]
    },
    {
     "cell_type": "markdown",
     "metadata": {},
     "source": [
      "### Pandas and SQL\n",
      "\n",
      "After the previous IPython Notebook exploring how to use standard Python to work\n",
      "with a database, you have probably realized that there is a lot of\n",
      "standard code we must write to simply execute some SQL commands. While\n",
      "there are different Python libraries that exist to simplify these steps,\n",
      "we will focus on using the Pandas library, which is a standard library\n",
      "for doing _Data Analysis in Python_.\n",
      "\n",
      "----"
     ]
    },
    {
     "cell_type": "code",
     "collapsed": false,
     "input": [
      "import sqlite3 as sl\n",
      "import pandas as pd"
     ],
     "language": "python",
     "metadata": {},
     "outputs": [],
     "prompt_number": 1
    },
    {
     "cell_type": "markdown",
     "metadata": {},
     "source": [
      "-----\n",
      "\n",
      "Pandas provides built-in support for executing a SQL query and\n",
      "retrieving the result as a DataFrame. This is demonstrated in the next\n",
      "code cell, where we execute a SQL query on the airlines database. We\n",
      "select several columns, and for simplicity we restrict our query result\n",
      "to only ten rows by using the ANSI SQL `LIMIT` clause.\n",
      "\n",
      "The Pandas method to execute a SQL statement is `read_sql`, and mimics\n",
      "in appearance other Panda methods for _reading_ data into a Pandas\n",
      "DataFrame. In this case, the method takes our SQL statement, database\n",
      "connection, and an optional parameter, `index_col` that we can use to\n",
      "specify which column in our result should be treated as an index column.\n",
      "Pandas will supply an auto-incrementing column if no column is explicitly\n",
      "supplied. To save space in the output display, we specify our own column\n",
      "in these examples.\n",
      "\n",
      "\n",
      "-----"
     ]
    },
    {
     "cell_type": "code",
     "collapsed": false,
     "input": [
      "query = \"SELECT code, airport, city, state, latitude, longitude FROM airports LIMIT 10 ;\"\n",
      "\n",
      "database = '/notebooks/i2ds/database/i2ds'\n",
      "\n",
      "with sl.connect(database) as con:\n",
      "    data = pd.read_sql(query, con, index_col ='code')\n",
      "    \n",
      "    print(data)"
     ],
     "language": "python",
     "metadata": {},
     "outputs": [
      {
       "ename": "OperationalError",
       "evalue": "unable to open database file",
       "output_type": "pyerr",
       "traceback": [
        "\u001b[0;31m---------------------------------------------------------------------------\u001b[0m\n\u001b[0;31mOperationalError\u001b[0m                          Traceback (most recent call last)",
        "\u001b[0;32m<ipython-input-2-88ac1e2293db>\u001b[0m in \u001b[0;36m<module>\u001b[0;34m()\u001b[0m\n\u001b[1;32m      3\u001b[0m \u001b[0mdatabase\u001b[0m \u001b[0;34m=\u001b[0m \u001b[0;34m'/notebooks/i2ds/database/i2ds'\u001b[0m\u001b[0;34m\u001b[0m\u001b[0m\n\u001b[1;32m      4\u001b[0m \u001b[0;34m\u001b[0m\u001b[0m\n\u001b[0;32m----> 5\u001b[0;31m \u001b[0;32mwith\u001b[0m \u001b[0msl\u001b[0m\u001b[0;34m.\u001b[0m\u001b[0mconnect\u001b[0m\u001b[0;34m(\u001b[0m\u001b[0mdatabase\u001b[0m\u001b[0;34m)\u001b[0m \u001b[0;32mas\u001b[0m \u001b[0mcon\u001b[0m\u001b[0;34m:\u001b[0m\u001b[0;34m\u001b[0m\u001b[0m\n\u001b[0m\u001b[1;32m      6\u001b[0m     \u001b[0mdata\u001b[0m \u001b[0;34m=\u001b[0m \u001b[0mpd\u001b[0m\u001b[0;34m.\u001b[0m\u001b[0mread_sql\u001b[0m\u001b[0;34m(\u001b[0m\u001b[0mquery\u001b[0m\u001b[0;34m,\u001b[0m \u001b[0mcon\u001b[0m\u001b[0;34m,\u001b[0m \u001b[0mindex_col\u001b[0m \u001b[0;34m=\u001b[0m\u001b[0;34m'code'\u001b[0m\u001b[0;34m)\u001b[0m\u001b[0;34m\u001b[0m\u001b[0m\n\u001b[1;32m      7\u001b[0m \u001b[0;34m\u001b[0m\u001b[0m\n",
        "\u001b[0;31mOperationalError\u001b[0m: unable to open database file"
       ]
      }
     ],
     "prompt_number": 2
    },
    {
     "cell_type": "markdown",
     "metadata": {},
     "source": [
      "-----\n",
      "\n",
      "In the next code cell, we use the column selection feature with a Pandas\n",
      "DataFrame to select only those rows that have airports in the state of\n",
      "Mississippi. We do this by selecting the `state` attribute of the\n",
      "DataFrame, which corresponds to the _state_ column, and applying a\n",
      "Boolean condition.\n",
      "\n",
      "-----"
     ]
    },
    {
     "cell_type": "code",
     "collapsed": false,
     "input": [
      "query = \"SELECT code, airport, city, state, latitude, longitude FROM airports LIMIT 100 ;\"\n",
      "\n",
      "with sl.connect(database) as con:\n",
      "    data = pd.read_sql(query, con, index_col ='code')\n",
      "    \n",
      "    print(data[data.state == 'MS'])"
     ],
     "language": "python",
     "metadata": {},
     "outputs": []
    },
    {
     "cell_type": "markdown",
     "metadata": {},
     "source": [
      "-----\n",
      "\n",
      "Pandas also simplifies the insertion of new data into a SQL database.\n",
      "For this, we can simply take an existing Pandas DataFrame and call the\n",
      "`to_sql()` method. This method requires two parameters, the name of the\n",
      "database table, and the database connection. If the table does not\n",
      "exist, a new table will be created to match the DataFrame, including\n",
      "appropriate column names and data types. \n",
      "\n",
      "In the next two code blocks, we first query the airports table, and use\n",
      "Pandas to extract all airports in Illinois. We next insert this data\n",
      "back into our database as a new table called `ILAirports`. The following\n",
      "code block queries this new table and display the results for\n",
      "confirmation.\n",
      "\n",
      "-----"
     ]
    },
    {
     "cell_type": "code",
     "collapsed": false,
     "input": [
      "# Creating table automatically works better if columns are explicitly listed.\n",
      "\n",
      "query = \"SELECT code, airport, city, state, latitude, longitude FROM airports ;\"\n",
      "with sl.connect(database) as con:\n",
      "    data = pd.read_sql(query, con)\n",
      "\n",
      "    data[data.state == 'IL'].to_sql('ILAirports', con)"
     ],
     "language": "python",
     "metadata": {},
     "outputs": []
    },
    {
     "cell_type": "code",
     "collapsed": false,
     "input": [
      "with sl.connect(database) as con:\n",
      "    data = pd.read_sql('SELECT code, city, airport, latitude, longitude FROM ILAirports', \n",
      "                       con, index_col ='code')\n",
      "    \n",
      "    print(data[10:20])"
     ],
     "language": "python",
     "metadata": {},
     "outputs": []
    },
    {
     "cell_type": "markdown",
     "metadata": {},
     "source": [
      "### Additional References\n",
      "\n",
      "1. [Pandas Documentation][pdd]\n",
      "2. A slightly dated Pandas [tutorial][pdt]\n",
      "-----\n",
      "\n",
      "[pdd]: http://pandas.pydata.org/pandas-docs/stable/index.html\n",
      "[pdt]: http://www.gregreda.com/2013/10/26/intro-to-pandas-data-structures/"
     ]
    }
   ],
   "metadata": {}
  }
 ]
}